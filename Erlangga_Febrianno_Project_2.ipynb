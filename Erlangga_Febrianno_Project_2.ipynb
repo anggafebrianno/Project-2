{
  "nbformat": 4,
  "nbformat_minor": 0,
  "metadata": {
    "colab": {
      "name": "Erlangga Febrianno - Project 2.ipynb",
      "provenance": [],
      "collapsed_sections": []
    },
    "kernelspec": {
      "name": "python3",
      "display_name": "Python 3"
    },
    "language_info": {
      "name": "python"
    }
  },
  "cells": [
    {
      "cell_type": "markdown",
      "source": [
        "Project 2 - Part 2\n",
        " \n",
        "Erlangga Febrianno"
      ],
      "metadata": {
        "id": "8CcjA8-6aaEt"
      }
    },
    {
      "cell_type": "code",
      "execution_count": 3,
      "metadata": {
        "id": "tgmxbQZkXMPH"
      },
      "outputs": [],
      "source": [
        "#Import Library\n",
        "import pandas as pd\n",
        "import numpy as np\n",
        "import matplotlib.pyplot as plt\n",
        "import seaborn as sns\n",
        "import pandas as pd\n",
        "import numpy as np\n",
        "import matplotlib.pyplot as plt\n",
        "import seaborn as sns\n",
        "from sklearn.preprocessing import StandardScaler, OneHotEncoder\n",
        "from sklearn.impute import SimpleImputer\n",
        "from sklearn.compose import make_column_transformer, make_column_selector\n",
        "from sklearn.tree import DecisionTreeClassifier\n",
        "from sklearn.ensemble import RandomForestClassifier, BaggingClassifier\n",
        "from sklearn.model_selection import train_test_split\n",
        "from sklearn.pipeline import make_pipeline\n",
        "from sklearn.metrics import accuracy_score, precision_score, recall_score, classification_report, ConfusionMatrixDisplay\n",
        "from sklearn.metrics import confusion_matrix\n",
        "from sklearn.dummy import DummyClassifier\n",
        "from sklearn.metrics import mean_absolute_error, mean_squared_error, r2_score\n",
        "from sklearn.neighbors import KNeighborsClassifier\n",
        "from sklearn.model_selection import GridSearchCV\n",
        "from sklearn.model_selection import RandomizedSearchCV\n",
        "\n",
        "#Mount Data\n",
        "filename = '/content/drive/MyDrive/Coding Dojo/Project 2/Company Bankrucptcy Prediction .csv'"
      ]
    },
    {
      "cell_type": "code",
      "source": [
        "#Read and Explore The Data\n",
        "\n",
        "df=pd.read_csv(filename)\n",
        "\n",
        "df.info()"
      ],
      "metadata": {
        "colab": {
          "base_uri": "https://localhost:8080/"
        },
        "id": "9u5uds5WXrJo",
        "outputId": "f5bed751-6bba-44d4-d38d-c68617cf6681"
      },
      "execution_count": 2,
      "outputs": [
        {
          "output_type": "stream",
          "name": "stdout",
          "text": [
            "<class 'pandas.core.frame.DataFrame'>\n",
            "RangeIndex: 6819 entries, 0 to 6818\n",
            "Data columns (total 96 columns):\n",
            " #   Column                                                    Non-Null Count  Dtype  \n",
            "---  ------                                                    --------------  -----  \n",
            " 0   Bankrupt?                                                 6819 non-null   int64  \n",
            " 1    ROA(C) before interest and depreciation before interest  6819 non-null   float64\n",
            " 2    ROA(A) before interest and % after tax                   6819 non-null   float64\n",
            " 3    ROA(B) before interest and depreciation after tax        6819 non-null   float64\n",
            " 4    Operating Gross Margin                                   6819 non-null   float64\n",
            " 5    Realized Sales Gross Margin                              6819 non-null   float64\n",
            " 6    Operating Profit Rate                                    6819 non-null   float64\n",
            " 7    Pre-tax net Interest Rate                                6819 non-null   float64\n",
            " 8    After-tax net Interest Rate                              6819 non-null   float64\n",
            " 9    Non-industry income and expenditure/revenue              6819 non-null   float64\n",
            " 10   Continuous interest rate (after tax)                     6819 non-null   float64\n",
            " 11   Operating Expense Rate                                   6819 non-null   float64\n",
            " 12   Research and development expense rate                    6819 non-null   float64\n",
            " 13   Cash flow rate                                           6819 non-null   float64\n",
            " 14   Interest-bearing debt interest rate                      6819 non-null   float64\n",
            " 15   Tax rate (A)                                             6819 non-null   float64\n",
            " 16   Net Value Per Share (B)                                  6819 non-null   float64\n",
            " 17   Net Value Per Share (A)                                  6819 non-null   float64\n",
            " 18   Net Value Per Share (C)                                  6819 non-null   float64\n",
            " 19   Persistent EPS in the Last Four Seasons                  6819 non-null   float64\n",
            " 20   Cash Flow Per Share                                      6819 non-null   float64\n",
            " 21   Revenue Per Share (Yuan ¥)                               6819 non-null   float64\n",
            " 22   Operating Profit Per Share (Yuan ¥)                      6819 non-null   float64\n",
            " 23   Per Share Net profit before tax (Yuan ¥)                 6819 non-null   float64\n",
            " 24   Realized Sales Gross Profit Growth Rate                  6819 non-null   float64\n",
            " 25   Operating Profit Growth Rate                             6819 non-null   float64\n",
            " 26   After-tax Net Profit Growth Rate                         6819 non-null   float64\n",
            " 27   Regular Net Profit Growth Rate                           6819 non-null   float64\n",
            " 28   Continuous Net Profit Growth Rate                        6819 non-null   float64\n",
            " 29   Total Asset Growth Rate                                  6819 non-null   float64\n",
            " 30   Net Value Growth Rate                                    6819 non-null   float64\n",
            " 31   Total Asset Return Growth Rate Ratio                     6819 non-null   float64\n",
            " 32   Cash Reinvestment %                                      6819 non-null   float64\n",
            " 33   Current Ratio                                            6819 non-null   float64\n",
            " 34   Quick Ratio                                              6819 non-null   float64\n",
            " 35   Interest Expense Ratio                                   6819 non-null   float64\n",
            " 36   Total debt/Total net worth                               6819 non-null   float64\n",
            " 37   Debt ratio %                                             6819 non-null   float64\n",
            " 38   Net worth/Assets                                         6819 non-null   float64\n",
            " 39   Long-term fund suitability ratio (A)                     6819 non-null   float64\n",
            " 40   Borrowing dependency                                     6819 non-null   float64\n",
            " 41   Contingent liabilities/Net worth                         6819 non-null   float64\n",
            " 42   Operating profit/Paid-in capital                         6819 non-null   float64\n",
            " 43   Net profit before tax/Paid-in capital                    6819 non-null   float64\n",
            " 44   Inventory and accounts receivable/Net value              6819 non-null   float64\n",
            " 45   Total Asset Turnover                                     6819 non-null   float64\n",
            " 46   Accounts Receivable Turnover                             6819 non-null   float64\n",
            " 47   Average Collection Days                                  6819 non-null   float64\n",
            " 48   Inventory Turnover Rate (times)                          6819 non-null   float64\n",
            " 49   Fixed Assets Turnover Frequency                          6819 non-null   float64\n",
            " 50   Net Worth Turnover Rate (times)                          6819 non-null   float64\n",
            " 51   Revenue per person                                       6819 non-null   float64\n",
            " 52   Operating profit per person                              6819 non-null   float64\n",
            " 53   Allocation rate per person                               6819 non-null   float64\n",
            " 54   Working Capital to Total Assets                          6819 non-null   float64\n",
            " 55   Quick Assets/Total Assets                                6819 non-null   float64\n",
            " 56   Current Assets/Total Assets                              6819 non-null   float64\n",
            " 57   Cash/Total Assets                                        6819 non-null   float64\n",
            " 58   Quick Assets/Current Liability                           6819 non-null   float64\n",
            " 59   Cash/Current Liability                                   6819 non-null   float64\n",
            " 60   Current Liability to Assets                              6819 non-null   float64\n",
            " 61   Operating Funds to Liability                             6819 non-null   float64\n",
            " 62   Inventory/Working Capital                                6819 non-null   float64\n",
            " 63   Inventory/Current Liability                              6819 non-null   float64\n",
            " 64   Current Liabilities/Liability                            6819 non-null   float64\n",
            " 65   Working Capital/Equity                                   6819 non-null   float64\n",
            " 66   Current Liabilities/Equity                               6819 non-null   float64\n",
            " 67   Long-term Liability to Current Assets                    6819 non-null   float64\n",
            " 68   Retained Earnings to Total Assets                        6819 non-null   float64\n",
            " 69   Total income/Total expense                               6819 non-null   float64\n",
            " 70   Total expense/Assets                                     6819 non-null   float64\n",
            " 71   Current Asset Turnover Rate                              6819 non-null   float64\n",
            " 72   Quick Asset Turnover Rate                                6819 non-null   float64\n",
            " 73   Working capitcal Turnover Rate                           6819 non-null   float64\n",
            " 74   Cash Turnover Rate                                       6819 non-null   float64\n",
            " 75   Cash Flow to Sales                                       6819 non-null   float64\n",
            " 76   Fixed Assets to Assets                                   6819 non-null   float64\n",
            " 77   Current Liability to Liability                           6819 non-null   float64\n",
            " 78   Current Liability to Equity                              6819 non-null   float64\n",
            " 79   Equity to Long-term Liability                            6819 non-null   float64\n",
            " 80   Cash Flow to Total Assets                                6819 non-null   float64\n",
            " 81   Cash Flow to Liability                                   6819 non-null   float64\n",
            " 82   CFO to Assets                                            6819 non-null   float64\n",
            " 83   Cash Flow to Equity                                      6819 non-null   float64\n",
            " 84   Current Liability to Current Assets                      6819 non-null   float64\n",
            " 85   Liability-Assets Flag                                    6819 non-null   int64  \n",
            " 86   Net Income to Total Assets                               6819 non-null   float64\n",
            " 87   Total assets to GNP price                                6819 non-null   float64\n",
            " 88   No-credit Interval                                       6819 non-null   float64\n",
            " 89   Gross Profit to Sales                                    6819 non-null   float64\n",
            " 90   Net Income to Stockholder's Equity                       6819 non-null   float64\n",
            " 91   Liability to Equity                                      6819 non-null   float64\n",
            " 92   Degree of Financial Leverage (DFL)                       6819 non-null   float64\n",
            " 93   Interest Coverage Ratio (Interest expense to EBIT)       6819 non-null   float64\n",
            " 94   Net Income Flag                                          6819 non-null   int64  \n",
            " 95   Equity to Liability                                      6819 non-null   float64\n",
            "dtypes: float64(93), int64(3)\n",
            "memory usage: 5.0 MB\n"
          ]
        }
      ]
    },
    {
      "cell_type": "markdown",
      "source": [
        "Identified Missing Values and Duplicates Data"
      ],
      "metadata": {
        "id": "QgNoHi8_dSKT"
      }
    },
    {
      "cell_type": "code",
      "source": [
        "#Find Missing Values\n",
        "df.isna().sum()"
      ],
      "metadata": {
        "colab": {
          "base_uri": "https://localhost:8080/"
        },
        "id": "4yEZA6psYCAF",
        "outputId": "9c576b31-00e0-4361-f6c9-d83251320f2c"
      },
      "execution_count": 3,
      "outputs": [
        {
          "output_type": "execute_result",
          "data": {
            "text/plain": [
              "Bankrupt?                                                   0\n",
              " ROA(C) before interest and depreciation before interest    0\n",
              " ROA(A) before interest and % after tax                     0\n",
              " ROA(B) before interest and depreciation after tax          0\n",
              " Operating Gross Margin                                     0\n",
              "                                                           ..\n",
              " Liability to Equity                                        0\n",
              " Degree of Financial Leverage (DFL)                         0\n",
              " Interest Coverage Ratio (Interest expense to EBIT)         0\n",
              " Net Income Flag                                            0\n",
              " Equity to Liability                                        0\n",
              "Length: 96, dtype: int64"
            ]
          },
          "metadata": {},
          "execution_count": 3
        }
      ]
    },
    {
      "cell_type": "code",
      "source": [
        "#Find Duplicate Data\n",
        "df.duplicated().sum()"
      ],
      "metadata": {
        "colab": {
          "base_uri": "https://localhost:8080/"
        },
        "id": "623aT33kYOA0",
        "outputId": "8cafe798-cf79-46fe-9530-30722d9e88eb"
      },
      "execution_count": 4,
      "outputs": [
        {
          "output_type": "execute_result",
          "data": {
            "text/plain": [
              "0"
            ]
          },
          "metadata": {},
          "execution_count": 4
        }
      ]
    },
    {
      "cell_type": "markdown",
      "source": [
        "Identified and corrected inconsistencies"
      ],
      "metadata": {
        "id": "EBLXmcqFdf7e"
      }
    },
    {
      "cell_type": "code",
      "source": [
        "#Checking data consistency in each column\n",
        "df.groupby('Bankrupt?').count()"
      ],
      "metadata": {
        "colab": {
          "base_uri": "https://localhost:8080/",
          "height": 324
        },
        "id": "PV4LEBS9YmWh",
        "outputId": "3c4fe0ed-c304-4a3a-db2b-ce549772cd73"
      },
      "execution_count": 5,
      "outputs": [
        {
          "output_type": "execute_result",
          "data": {
            "text/plain": [
              "            ROA(C) before interest and depreciation before interest  \\\n",
              "Bankrupt?                                                             \n",
              "0                                                       6599          \n",
              "1                                                        220          \n",
              "\n",
              "            ROA(A) before interest and % after tax  \\\n",
              "Bankrupt?                                            \n",
              "0                                             6599   \n",
              "1                                              220   \n",
              "\n",
              "            ROA(B) before interest and depreciation after tax  \\\n",
              "Bankrupt?                                                       \n",
              "0                                                       6599    \n",
              "1                                                        220    \n",
              "\n",
              "            Operating Gross Margin   Realized Sales Gross Margin  \\\n",
              "Bankrupt?                                                          \n",
              "0                             6599                          6599   \n",
              "1                              220                           220   \n",
              "\n",
              "            Operating Profit Rate   Pre-tax net Interest Rate  \\\n",
              "Bankrupt?                                                       \n",
              "0                            6599                        6599   \n",
              "1                             220                         220   \n",
              "\n",
              "            After-tax net Interest Rate  \\\n",
              "Bankrupt?                                 \n",
              "0                                  6599   \n",
              "1                                   220   \n",
              "\n",
              "            Non-industry income and expenditure/revenue  \\\n",
              "Bankrupt?                                                 \n",
              "0                                                  6599   \n",
              "1                                                   220   \n",
              "\n",
              "            Continuous interest rate (after tax)  ...  \\\n",
              "Bankrupt?                                         ...   \n",
              "0                                           6599  ...   \n",
              "1                                            220  ...   \n",
              "\n",
              "            Net Income to Total Assets   Total assets to GNP price  \\\n",
              "Bankrupt?                                                            \n",
              "0                                 6599                        6599   \n",
              "1                                  220                         220   \n",
              "\n",
              "            No-credit Interval   Gross Profit to Sales  \\\n",
              "Bankrupt?                                                \n",
              "0                         6599                    6599   \n",
              "1                          220                     220   \n",
              "\n",
              "            Net Income to Stockholder's Equity   Liability to Equity  \\\n",
              "Bankrupt?                                                              \n",
              "0                                         6599                  6599   \n",
              "1                                          220                   220   \n",
              "\n",
              "            Degree of Financial Leverage (DFL)  \\\n",
              "Bankrupt?                                        \n",
              "0                                         6599   \n",
              "1                                          220   \n",
              "\n",
              "            Interest Coverage Ratio (Interest expense to EBIT)  \\\n",
              "Bankrupt?                                                        \n",
              "0                                                       6599     \n",
              "1                                                        220     \n",
              "\n",
              "            Net Income Flag   Equity to Liability  \n",
              "Bankrupt?                                          \n",
              "0                      6599                  6599  \n",
              "1                       220                   220  \n",
              "\n",
              "[2 rows x 95 columns]"
            ],
            "text/html": [
              "\n",
              "  <div id=\"df-e98b4dbd-2b61-46af-a447-432d403a6cfc\">\n",
              "    <div class=\"colab-df-container\">\n",
              "      <div>\n",
              "<style scoped>\n",
              "    .dataframe tbody tr th:only-of-type {\n",
              "        vertical-align: middle;\n",
              "    }\n",
              "\n",
              "    .dataframe tbody tr th {\n",
              "        vertical-align: top;\n",
              "    }\n",
              "\n",
              "    .dataframe thead th {\n",
              "        text-align: right;\n",
              "    }\n",
              "</style>\n",
              "<table border=\"1\" class=\"dataframe\">\n",
              "  <thead>\n",
              "    <tr style=\"text-align: right;\">\n",
              "      <th></th>\n",
              "      <th>ROA(C) before interest and depreciation before interest</th>\n",
              "      <th>ROA(A) before interest and % after tax</th>\n",
              "      <th>ROA(B) before interest and depreciation after tax</th>\n",
              "      <th>Operating Gross Margin</th>\n",
              "      <th>Realized Sales Gross Margin</th>\n",
              "      <th>Operating Profit Rate</th>\n",
              "      <th>Pre-tax net Interest Rate</th>\n",
              "      <th>After-tax net Interest Rate</th>\n",
              "      <th>Non-industry income and expenditure/revenue</th>\n",
              "      <th>Continuous interest rate (after tax)</th>\n",
              "      <th>...</th>\n",
              "      <th>Net Income to Total Assets</th>\n",
              "      <th>Total assets to GNP price</th>\n",
              "      <th>No-credit Interval</th>\n",
              "      <th>Gross Profit to Sales</th>\n",
              "      <th>Net Income to Stockholder's Equity</th>\n",
              "      <th>Liability to Equity</th>\n",
              "      <th>Degree of Financial Leverage (DFL)</th>\n",
              "      <th>Interest Coverage Ratio (Interest expense to EBIT)</th>\n",
              "      <th>Net Income Flag</th>\n",
              "      <th>Equity to Liability</th>\n",
              "    </tr>\n",
              "    <tr>\n",
              "      <th>Bankrupt?</th>\n",
              "      <th></th>\n",
              "      <th></th>\n",
              "      <th></th>\n",
              "      <th></th>\n",
              "      <th></th>\n",
              "      <th></th>\n",
              "      <th></th>\n",
              "      <th></th>\n",
              "      <th></th>\n",
              "      <th></th>\n",
              "      <th></th>\n",
              "      <th></th>\n",
              "      <th></th>\n",
              "      <th></th>\n",
              "      <th></th>\n",
              "      <th></th>\n",
              "      <th></th>\n",
              "      <th></th>\n",
              "      <th></th>\n",
              "      <th></th>\n",
              "      <th></th>\n",
              "    </tr>\n",
              "  </thead>\n",
              "  <tbody>\n",
              "    <tr>\n",
              "      <th>0</th>\n",
              "      <td>6599</td>\n",
              "      <td>6599</td>\n",
              "      <td>6599</td>\n",
              "      <td>6599</td>\n",
              "      <td>6599</td>\n",
              "      <td>6599</td>\n",
              "      <td>6599</td>\n",
              "      <td>6599</td>\n",
              "      <td>6599</td>\n",
              "      <td>6599</td>\n",
              "      <td>...</td>\n",
              "      <td>6599</td>\n",
              "      <td>6599</td>\n",
              "      <td>6599</td>\n",
              "      <td>6599</td>\n",
              "      <td>6599</td>\n",
              "      <td>6599</td>\n",
              "      <td>6599</td>\n",
              "      <td>6599</td>\n",
              "      <td>6599</td>\n",
              "      <td>6599</td>\n",
              "    </tr>\n",
              "    <tr>\n",
              "      <th>1</th>\n",
              "      <td>220</td>\n",
              "      <td>220</td>\n",
              "      <td>220</td>\n",
              "      <td>220</td>\n",
              "      <td>220</td>\n",
              "      <td>220</td>\n",
              "      <td>220</td>\n",
              "      <td>220</td>\n",
              "      <td>220</td>\n",
              "      <td>220</td>\n",
              "      <td>...</td>\n",
              "      <td>220</td>\n",
              "      <td>220</td>\n",
              "      <td>220</td>\n",
              "      <td>220</td>\n",
              "      <td>220</td>\n",
              "      <td>220</td>\n",
              "      <td>220</td>\n",
              "      <td>220</td>\n",
              "      <td>220</td>\n",
              "      <td>220</td>\n",
              "    </tr>\n",
              "  </tbody>\n",
              "</table>\n",
              "<p>2 rows × 95 columns</p>\n",
              "</div>\n",
              "      <button class=\"colab-df-convert\" onclick=\"convertToInteractive('df-e98b4dbd-2b61-46af-a447-432d403a6cfc')\"\n",
              "              title=\"Convert this dataframe to an interactive table.\"\n",
              "              style=\"display:none;\">\n",
              "        \n",
              "  <svg xmlns=\"http://www.w3.org/2000/svg\" height=\"24px\"viewBox=\"0 0 24 24\"\n",
              "       width=\"24px\">\n",
              "    <path d=\"M0 0h24v24H0V0z\" fill=\"none\"/>\n",
              "    <path d=\"M18.56 5.44l.94 2.06.94-2.06 2.06-.94-2.06-.94-.94-2.06-.94 2.06-2.06.94zm-11 1L8.5 8.5l.94-2.06 2.06-.94-2.06-.94L8.5 2.5l-.94 2.06-2.06.94zm10 10l.94 2.06.94-2.06 2.06-.94-2.06-.94-.94-2.06-.94 2.06-2.06.94z\"/><path d=\"M17.41 7.96l-1.37-1.37c-.4-.4-.92-.59-1.43-.59-.52 0-1.04.2-1.43.59L10.3 9.45l-7.72 7.72c-.78.78-.78 2.05 0 2.83L4 21.41c.39.39.9.59 1.41.59.51 0 1.02-.2 1.41-.59l7.78-7.78 2.81-2.81c.8-.78.8-2.07 0-2.86zM5.41 20L4 18.59l7.72-7.72 1.47 1.35L5.41 20z\"/>\n",
              "  </svg>\n",
              "      </button>\n",
              "      \n",
              "  <style>\n",
              "    .colab-df-container {\n",
              "      display:flex;\n",
              "      flex-wrap:wrap;\n",
              "      gap: 12px;\n",
              "    }\n",
              "\n",
              "    .colab-df-convert {\n",
              "      background-color: #E8F0FE;\n",
              "      border: none;\n",
              "      border-radius: 50%;\n",
              "      cursor: pointer;\n",
              "      display: none;\n",
              "      fill: #1967D2;\n",
              "      height: 32px;\n",
              "      padding: 0 0 0 0;\n",
              "      width: 32px;\n",
              "    }\n",
              "\n",
              "    .colab-df-convert:hover {\n",
              "      background-color: #E2EBFA;\n",
              "      box-shadow: 0px 1px 2px rgba(60, 64, 67, 0.3), 0px 1px 3px 1px rgba(60, 64, 67, 0.15);\n",
              "      fill: #174EA6;\n",
              "    }\n",
              "\n",
              "    [theme=dark] .colab-df-convert {\n",
              "      background-color: #3B4455;\n",
              "      fill: #D2E3FC;\n",
              "    }\n",
              "\n",
              "    [theme=dark] .colab-df-convert:hover {\n",
              "      background-color: #434B5C;\n",
              "      box-shadow: 0px 1px 3px 1px rgba(0, 0, 0, 0.15);\n",
              "      filter: drop-shadow(0px 1px 2px rgba(0, 0, 0, 0.3));\n",
              "      fill: #FFFFFF;\n",
              "    }\n",
              "  </style>\n",
              "\n",
              "      <script>\n",
              "        const buttonEl =\n",
              "          document.querySelector('#df-e98b4dbd-2b61-46af-a447-432d403a6cfc button.colab-df-convert');\n",
              "        buttonEl.style.display =\n",
              "          google.colab.kernel.accessAllowed ? 'block' : 'none';\n",
              "\n",
              "        async function convertToInteractive(key) {\n",
              "          const element = document.querySelector('#df-e98b4dbd-2b61-46af-a447-432d403a6cfc');\n",
              "          const dataTable =\n",
              "            await google.colab.kernel.invokeFunction('convertToInteractive',\n",
              "                                                     [key], {});\n",
              "          if (!dataTable) return;\n",
              "\n",
              "          const docLinkHtml = 'Like what you see? Visit the ' +\n",
              "            '<a target=\"_blank\" href=https://colab.research.google.com/notebooks/data_table.ipynb>data table notebook</a>'\n",
              "            + ' to learn more about interactive tables.';\n",
              "          element.innerHTML = '';\n",
              "          dataTable['output_type'] = 'display_data';\n",
              "          await google.colab.output.renderOutput(dataTable, element);\n",
              "          const docLink = document.createElement('div');\n",
              "          docLink.innerHTML = docLinkHtml;\n",
              "          element.appendChild(docLink);\n",
              "        }\n",
              "      </script>\n",
              "    </div>\n",
              "  </div>\n",
              "  "
            ]
          },
          "metadata": {},
          "execution_count": 5
        }
      ]
    },
    {
      "cell_type": "code",
      "source": [
        "#Dropping Columns with the same ratios.\n",
        "#There are ratios that has the same meaning in this data set which is Current Liabilities/Liability and  Current Liability to Liability\n",
        "\n",
        "#Judgement one of the colums will be deleted\n",
        "df = df.drop([' Current Liability to Equity', ' Current Liability to Liability'], axis = 1 )\n"
      ],
      "metadata": {
        "id": "JSHYu8Ze2DLS"
      },
      "execution_count": 6,
      "outputs": []
    },
    {
      "cell_type": "markdown",
      "source": [
        "Produced univariate visuals for the target and all features\n",
        "\n",
        "The visual that I create is not for all the features. Based on my judgement on the company financial ratios, there are some features that I think is very important such as:\n",
        "1. Gross Profit to Sales\n",
        "2. ROA Before Interest and Depreciation after tax\n",
        "3. Cash Flow to Liability\n",
        "4. Cash Flow Rate\n",
        "5. Cash Turnover Rate\n",
        "\n",
        "From this features we can get information about how the company perform in getting Profit and the profitability performance and also how the company cash flow to manage debt and operational activity."
      ],
      "metadata": {
        "id": "xQvvg06Bdkah"
      }
    },
    {
      "cell_type": "code",
      "source": [
        "#Create Histogram for Gross Profit to Sales\n",
        "\n",
        "plt.figure(figsize=(30,6))\n",
        "plt.hist(df[' Gross Profit to Sales'], bins='auto', edgecolor='black')\n",
        "plt.xlabel('Gross Profit to Sales')\n",
        "plt.ylabel('Number of Company')\n",
        "plt.title('Gross Profit to Sales')\n",
        "plt.axvline(df[' Gross Profit to Sales'].median(), color='yellow', linestyle='--',\n",
        "            label=f\"Median Gross Profit to Sales{df[' Gross Profit to Sales'].median()}\")\n",
        "\n",
        "plt.legend();"
      ],
      "metadata": {
        "id": "jphOkOQimdyx",
        "colab": {
          "base_uri": "https://localhost:8080/",
          "height": 312
        },
        "outputId": "542bfb4c-2fdc-4e8c-dfb5-11726e0d2c3c"
      },
      "execution_count": 7,
      "outputs": [
        {
          "output_type": "display_data",
          "data": {
            "text/plain": [
              "<Figure size 2160x432 with 1 Axes>"
            ],
            "image/png": "[encoded data removed]"
          },
          "metadata": {
            "needs_background": "light"
          }
        }
      ]
    },
    {
      "cell_type": "code",
      "source": [
        "#Create Histogram for ROA Before Interest and Depreciation after tax\n",
        "\n",
        "plt.figure(figsize=(30,6))\n",
        "plt.hist(df[' ROA(B) before interest and depreciation after tax'], bins='auto', edgecolor='black')\n",
        "plt.xlabel('ROA(B) before interest and depreciation after tax')\n",
        "plt.ylabel('Number of Company')\n",
        "plt.title('ROA(B) before interest and depreciation after tax')\n",
        "plt.axvline(df[' ROA(B) before interest and depreciation after tax'].median(), color='yellow', linestyle='--',\n",
        "            label=f\"Median Cash Flow to Sales{df[' ROA(B) before interest and depreciation after tax'].median()}\")\n",
        "\n",
        "plt.legend();"
      ],
      "metadata": {
        "colab": {
          "base_uri": "https://localhost:8080/",
          "height": 312
        },
        "id": "hKt2v0WGswTm",
        "outputId": "d81df11c-9a58-4f8b-8529-9643083ebe62"
      },
      "execution_count": 8,
      "outputs": [
        {
          "output_type": "display_data",
          "data": {
            "text/plain": [
              "<Figure size 2160x432 with 1 Axes>"
            ],
            "image/png": "[encoded data removed]"
          },
          "metadata": {
            "needs_background": "light"
          }
        }
      ]
    },
    {
      "cell_type": "code",
      "source": [
        "#Create Histogram for Cash Flow to Liability\n",
        "\n",
        "plt.figure(figsize=(30,6))\n",
        "plt.hist(df[' Cash Flow to Liability'], bins='auto', edgecolor='black')\n",
        "plt.xlabel('Cash Flow to Liability')\n",
        "plt.ylabel('Number of Company')\n",
        "plt.title('Cash Flow to Liability')\n",
        "plt.axvline(df[' Cash Flow to Liability'].median(), color='yellow', linestyle='--',\n",
        "            label=f\"Median Cash Flow to Liability{df[' Cash Flow to Liability'].median()}\")\n",
        "\n",
        "plt.legend();"
      ],
      "metadata": {
        "colab": {
          "base_uri": "https://localhost:8080/",
          "height": 312
        },
        "id": "w-wPJIMfT9jS",
        "outputId": "5fc1b665-235f-4009-c9f5-cc64244e52ce"
      },
      "execution_count": 9,
      "outputs": [
        {
          "output_type": "display_data",
          "data": {
            "text/plain": [
              "<Figure size 2160x432 with 1 Axes>"
            ],
            "image/png": "[encoded data removed]"
          },
          "metadata": {
            "needs_background": "light"
          }
        }
      ]
    },
    {
      "cell_type": "code",
      "source": [
        "#Create Histogram for Cash Turnover Rate\n",
        "\n",
        "plt.figure(figsize=(10,6))\n",
        "plt.hist(df[' Cash Turnover Rate'], bins='auto', edgecolor='black')\n",
        "plt.xlabel('Cash Turnover Rate')\n",
        "plt.ylabel('Number of Company')\n",
        "plt.title('Cash Turnover Rate')\n",
        "plt.axvline(df[' Cash Turnover Rate'].median(), color='yellow', linestyle='--',\n",
        "            label=f\"Median Cash Turnover Rate{df[' Cash Turnover Rate'].median()}\")\n",
        "\n",
        "plt.legend();"
      ],
      "metadata": {
        "colab": {
          "base_uri": "https://localhost:8080/",
          "height": 404
        },
        "id": "clqAxpj0U9Ms",
        "outputId": "13ad5453-23fe-4ff2-86a0-ddb0e9c0e6c6"
      },
      "execution_count": 10,
      "outputs": [
        {
          "output_type": "display_data",
          "data": {
            "text/plain": [
              "<Figure size 720x432 with 1 Axes>"
            ],
            "image/png": "[encoded data removed]"
          },
          "metadata": {
            "needs_background": "light"
          }
        }
      ]
    },
    {
      "cell_type": "code",
      "source": [
        "#Create Histogram for Cash flow rate\n",
        "\n",
        "plt.figure(figsize=(10,6))\n",
        "plt.hist(df[' Cash flow rate'], bins='auto', edgecolor='black')\n",
        "plt.xlabel('Cash flow rate')\n",
        "plt.ylabel('Number of Company')\n",
        "plt.title('Cash flow rate')\n",
        "plt.axvline(df[' Cash flow rate'].median(), color='yellow', linestyle='--',\n",
        "            label=f\"Median Cash flow rate{df[' Cash flow rate'].median()}\")\n",
        "\n",
        "plt.legend();"
      ],
      "metadata": {
        "colab": {
          "base_uri": "https://localhost:8080/",
          "height": 404
        },
        "id": "O1nn7lIEVprU",
        "outputId": "6ccfad37-dca8-4ff3-827c-3a83be3f261c"
      },
      "execution_count": 11,
      "outputs": [
        {
          "output_type": "display_data",
          "data": {
            "text/plain": [
              "<Figure size 720x432 with 1 Axes>"
            ],
            "image/png": "[encoded data removed]"
          },
          "metadata": {
            "needs_background": "light"
          }
        }
      ]
    },
    {
      "cell_type": "code",
      "source": [
        "#Create Histogram for Quick Ratio\n",
        "\n",
        "plt.figure(figsize=(10,6))\n",
        "plt.hist(df[' Quick Ratio'], bins='auto', edgecolor='black')\n",
        "plt.xlabel('Quick Ratio')\n",
        "plt.ylabel('Number of Company')\n",
        "plt.title('Quick Ratio')\n",
        "plt.axvline(df[' Quick Ratio'].median(), color='yellow', linestyle='--',\n",
        "            label=f\"Median Quick Ratio{df[' Quick Ratio'].median()}\")\n",
        "\n",
        "plt.legend();"
      ],
      "metadata": {
        "id": "pCc6oCOmYFtY"
      },
      "execution_count": null,
      "outputs": []
    },
    {
      "cell_type": "markdown",
      "source": [
        "Identified outliers"
      ],
      "metadata": {
        "id": "g5DHcCkIdwBZ"
      }
    },
    {
      "cell_type": "code",
      "source": [
        "#Identified Outliers\n",
        "df.describe()"
      ],
      "metadata": {
        "id": "3tA35s4EZitW"
      },
      "execution_count": null,
      "outputs": []
    },
    {
      "cell_type": "markdown",
      "source": [
        "Based on the data description, there might be outliers data on every columns.\n",
        "From the table above the max number is greater than 3rd quartile in almost every columns."
      ],
      "metadata": {
        "id": "ahq9vRIXlhwb"
      }
    },
    {
      "cell_type": "markdown",
      "source": [
        "Project 2 - Part 3\n"
      ],
      "metadata": {
        "id": "8lUiNQ4-p4j_"
      }
    },
    {
      "cell_type": "markdown",
      "source": [
        "#Identifying any moderate or strong correlations between your target and your features and/or between one feature and another"
      ],
      "metadata": {
        "id": "ZWiQFlvrp_CJ"
      }
    },
    {
      "cell_type": "code",
      "source": [
        "#Calculate the correlation between features\n",
        "df.corr()\n",
        "df1=df.corr().round(2)\n",
        "df1.head(96)\n",
        "\n",
        "plt.figure(figsize = (100,100))\n",
        "sns.heatmap(df1, linewidth=1, annot = True, annot_kws={\"size\":12})\n",
        "plt.title ('Company Financial Ratios')\n",
        "plt.show()\n"
      ],
      "metadata": {
        "id": "MQnDWkePaVzv"
      },
      "execution_count": null,
      "outputs": []
    },
    {
      "cell_type": "markdown",
      "source": [
        "Explanation based on the correlation calculation between features\n",
        "\n",
        "Financial ratios is calculated base on the items in Balance Sheet, Income Statement and Cash Flow Statement.\n",
        "Some features that use Profit to calculate the ratios such as Return on Assets, Earning per Share (EPS), Retained Earnings and Operating profit will have a strong correlation, such as:\n",
        "ROA and Net Value per Share, ROA, and operating Profit per Share.\n",
        "\n",
        "The correlation between the target values and all other features considered very low. The highest correlation is between the target value and Debt Ratio% (0.25), Borrowing dependecy(0.18), Current liability to assets (0.17), and liability to equity (0.17)"
      ],
      "metadata": {
        "id": "sSayRU28qXAs"
      }
    },
    {
      "cell_type": "code",
      "source": [
        "df2 = df.groupby('Bankrupt?').mean()\n",
        "df2"
      ],
      "metadata": {
        "id": "QjzQPXru6neC"
      },
      "execution_count": null,
      "outputs": []
    },
    {
      "cell_type": "code",
      "source": [
        "# Visualize means values based on Target Values\n",
        "df2.plot(subplots=True, kind='bar', figsize=(6,300))\n",
        "plt.tight_layout()"
      ],
      "metadata": {
        "id": "n03DQ_P27_lz"
      },
      "execution_count": null,
      "outputs": []
    },
    {
      "cell_type": "markdown",
      "source": [
        "Based on the visualizations above there are some key point that i want to explain about the bankruptcy prediction:\n",
        "1. If we see the profitability ratios, such ROA before interest and depreciation, ROA after tax,  it shows that the return on Assets for the company that going to bankrupt has lower number. It means that the company can not utilize their assets as good as the company which is survive.\n",
        "2. If we see the performance based on how the company manage their expense, we can see that the company that going to bankrupt has higher total expense/asset ratio.\n",
        "3. The company whichs is going to bankrupt actually has a good performance in collecting their cash. We can see that from the account receivable ratio and the average collecting days shows lower number than the other.\n",
        "4. The company that is going to bankrupt has a high number of debt. We can see that from the debt ratio.\n",
        "\n",
        "From that key point, my initial assumptions why a company going to bankruptcy are because of how the company handle their expense and debt."
      ],
      "metadata": {
        "id": "rAmGwu1wGz4e"
      }
    },
    {
      "cell_type": "code",
      "source": [
        "#Copy the Data\n",
        "ml_df = pd.read_csv(filename)\n",
        "\n",
        "ml_df.info()"
      ],
      "metadata": {
        "colab": {
          "base_uri": "https://localhost:8080/"
        },
        "id": "HPbNRt_9eQmG",
        "outputId": "a7f652bd-3ded-4c85-9d09-195331eda9bb"
      },
      "execution_count": 5,
      "outputs": [
        {
          "output_type": "stream",
          "name": "stdout",
          "text": [
            "<class 'pandas.core.frame.DataFrame'>\n",
            "RangeIndex: 6819 entries, 0 to 6818\n",
            "Data columns (total 96 columns):\n",
            " #   Column                                                    Non-Null Count  Dtype  \n",
            "---  ------                                                    --------------  -----  \n",
            " 0   Bankrupt?                                                 6819 non-null   int64  \n",
            " 1    ROA(C) before interest and depreciation before interest  6819 non-null   float64\n",
            " 2    ROA(A) before interest and % after tax                   6819 non-null   float64\n",
            " 3    ROA(B) before interest and depreciation after tax        6819 non-null   float64\n",
            " 4    Operating Gross Margin                                   6819 non-null   float64\n",
            " 5    Realized Sales Gross Margin                              6819 non-null   float64\n",
            " 6    Operating Profit Rate                                    6819 non-null   float64\n",
            " 7    Pre-tax net Interest Rate                                6819 non-null   float64\n",
            " 8    After-tax net Interest Rate                              6819 non-null   float64\n",
            " 9    Non-industry income and expenditure/revenue              6819 non-null   float64\n",
            " 10   Continuous interest rate (after tax)                     6819 non-null   float64\n",
            " 11   Operating Expense Rate                                   6819 non-null   float64\n",
            " 12   Research and development expense rate                    6819 non-null   float64\n",
            " 13   Cash flow rate                                           6819 non-null   float64\n",
            " 14   Interest-bearing debt interest rate                      6819 non-null   float64\n",
            " 15   Tax rate (A)                                             6819 non-null   float64\n",
            " 16   Net Value Per Share (B)                                  6819 non-null   float64\n",
            " 17   Net Value Per Share (A)                                  6819 non-null   float64\n",
            " 18   Net Value Per Share (C)                                  6819 non-null   float64\n",
            " 19   Persistent EPS in the Last Four Seasons                  6819 non-null   float64\n",
            " 20   Cash Flow Per Share                                      6819 non-null   float64\n",
            " 21   Revenue Per Share (Yuan ¥)                               6819 non-null   float64\n",
            " 22   Operating Profit Per Share (Yuan ¥)                      6819 non-null   float64\n",
            " 23   Per Share Net profit before tax (Yuan ¥)                 6819 non-null   float64\n",
            " 24   Realized Sales Gross Profit Growth Rate                  6819 non-null   float64\n",
            " 25   Operating Profit Growth Rate                             6819 non-null   float64\n",
            " 26   After-tax Net Profit Growth Rate                         6819 non-null   float64\n",
            " 27   Regular Net Profit Growth Rate                           6819 non-null   float64\n",
            " 28   Continuous Net Profit Growth Rate                        6819 non-null   float64\n",
            " 29   Total Asset Growth Rate                                  6819 non-null   float64\n",
            " 30   Net Value Growth Rate                                    6819 non-null   float64\n",
            " 31   Total Asset Return Growth Rate Ratio                     6819 non-null   float64\n",
            " 32   Cash Reinvestment %                                      6819 non-null   float64\n",
            " 33   Current Ratio                                            6819 non-null   float64\n",
            " 34   Quick Ratio                                              6819 non-null   float64\n",
            " 35   Interest Expense Ratio                                   6819 non-null   float64\n",
            " 36   Total debt/Total net worth                               6819 non-null   float64\n",
            " 37   Debt ratio %                                             6819 non-null   float64\n",
            " 38   Net worth/Assets                                         6819 non-null   float64\n",
            " 39   Long-term fund suitability ratio (A)                     6819 non-null   float64\n",
            " 40   Borrowing dependency                                     6819 non-null   float64\n",
            " 41   Contingent liabilities/Net worth                         6819 non-null   float64\n",
            " 42   Operating profit/Paid-in capital                         6819 non-null   float64\n",
            " 43   Net profit before tax/Paid-in capital                    6819 non-null   float64\n",
            " 44   Inventory and accounts receivable/Net value              6819 non-null   float64\n",
            " 45   Total Asset Turnover                                     6819 non-null   float64\n",
            " 46   Accounts Receivable Turnover                             6819 non-null   float64\n",
            " 47   Average Collection Days                                  6819 non-null   float64\n",
            " 48   Inventory Turnover Rate (times)                          6819 non-null   float64\n",
            " 49   Fixed Assets Turnover Frequency                          6819 non-null   float64\n",
            " 50   Net Worth Turnover Rate (times)                          6819 non-null   float64\n",
            " 51   Revenue per person                                       6819 non-null   float64\n",
            " 52   Operating profit per person                              6819 non-null   float64\n",
            " 53   Allocation rate per person                               6819 non-null   float64\n",
            " 54   Working Capital to Total Assets                          6819 non-null   float64\n",
            " 55   Quick Assets/Total Assets                                6819 non-null   float64\n",
            " 56   Current Assets/Total Assets                              6819 non-null   float64\n",
            " 57   Cash/Total Assets                                        6819 non-null   float64\n",
            " 58   Quick Assets/Current Liability                           6819 non-null   float64\n",
            " 59   Cash/Current Liability                                   6819 non-null   float64\n",
            " 60   Current Liability to Assets                              6819 non-null   float64\n",
            " 61   Operating Funds to Liability                             6819 non-null   float64\n",
            " 62   Inventory/Working Capital                                6819 non-null   float64\n",
            " 63   Inventory/Current Liability                              6819 non-null   float64\n",
            " 64   Current Liabilities/Liability                            6819 non-null   float64\n",
            " 65   Working Capital/Equity                                   6819 non-null   float64\n",
            " 66   Current Liabilities/Equity                               6819 non-null   float64\n",
            " 67   Long-term Liability to Current Assets                    6819 non-null   float64\n",
            " 68   Retained Earnings to Total Assets                        6819 non-null   float64\n",
            " 69   Total income/Total expense                               6819 non-null   float64\n",
            " 70   Total expense/Assets                                     6819 non-null   float64\n",
            " 71   Current Asset Turnover Rate                              6819 non-null   float64\n",
            " 72   Quick Asset Turnover Rate                                6819 non-null   float64\n",
            " 73   Working capitcal Turnover Rate                           6819 non-null   float64\n",
            " 74   Cash Turnover Rate                                       6819 non-null   float64\n",
            " 75   Cash Flow to Sales                                       6819 non-null   float64\n",
            " 76   Fixed Assets to Assets                                   6819 non-null   float64\n",
            " 77   Current Liability to Liability                           6819 non-null   float64\n",
            " 78   Current Liability to Equity                              6819 non-null   float64\n",
            " 79   Equity to Long-term Liability                            6819 non-null   float64\n",
            " 80   Cash Flow to Total Assets                                6819 non-null   float64\n",
            " 81   Cash Flow to Liability                                   6819 non-null   float64\n",
            " 82   CFO to Assets                                            6819 non-null   float64\n",
            " 83   Cash Flow to Equity                                      6819 non-null   float64\n",
            " 84   Current Liability to Current Assets                      6819 non-null   float64\n",
            " 85   Liability-Assets Flag                                    6819 non-null   int64  \n",
            " 86   Net Income to Total Assets                               6819 non-null   float64\n",
            " 87   Total assets to GNP price                                6819 non-null   float64\n",
            " 88   No-credit Interval                                       6819 non-null   float64\n",
            " 89   Gross Profit to Sales                                    6819 non-null   float64\n",
            " 90   Net Income to Stockholder's Equity                       6819 non-null   float64\n",
            " 91   Liability to Equity                                      6819 non-null   float64\n",
            " 92   Degree of Financial Leverage (DFL)                       6819 non-null   float64\n",
            " 93   Interest Coverage Ratio (Interest expense to EBIT)       6819 non-null   float64\n",
            " 94   Net Income Flag                                          6819 non-null   int64  \n",
            " 95   Equity to Liability                                      6819 non-null   float64\n",
            "dtypes: float64(93), int64(3)\n",
            "memory usage: 5.0 MB\n"
          ]
        }
      ]
    },
    {
      "cell_type": "markdown",
      "source": [
        "Split Train & Test Data"
      ],
      "metadata": {
        "id": "BYhQbaJRilla"
      }
    },
    {
      "cell_type": "code",
      "source": [
        "X=ml_df.drop(columns='Bankrupt?')\n",
        "y=ml_df['Bankrupt?']\n",
        "\n",
        "\n",
        "#Train Test Split\n",
        "X_train, X_test, y_train, y_test = train_test_split(X,y,random_state=42)"
      ],
      "metadata": {
        "id": "N3vOyXF-iqTh"
      },
      "execution_count": 6,
      "outputs": []
    },
    {
      "cell_type": "markdown",
      "source": [
        "First Model:\n",
        "Random Forest Classifier"
      ],
      "metadata": {
        "id": "BaSE9RTvi_4e"
      }
    },
    {
      "cell_type": "code",
      "source": [
        "#Random Forest\n",
        "rf = RandomForestClassifier(random_state = 42)\n",
        "\n",
        "#Fit the model\n",
        "rf.fit(X_train, y_train)"
      ],
      "metadata": {
        "colab": {
          "base_uri": "https://localhost:8080/"
        },
        "id": "jYJ3xqD3jIs1",
        "outputId": "50b2e725-108b-458e-b79a-84e5eb039872"
      },
      "execution_count": 8,
      "outputs": [
        {
          "output_type": "execute_result",
          "data": {
            "text/plain": [
              "RandomForestClassifier(random_state=42)"
            ]
          },
          "metadata": {},
          "execution_count": 8
        }
      ]
    },
    {
      "cell_type": "code",
      "source": [
        "#Make Predictions\n",
        "rf_pred = rf.predict(X_test)\n",
        "rf_pred"
      ],
      "metadata": {
        "colab": {
          "base_uri": "https://localhost:8080/"
        },
        "id": "zhZqehfBjdS9",
        "outputId": "106897be-8190-4d53-9fdd-3aca02808da8"
      },
      "execution_count": 10,
      "outputs": [
        {
          "output_type": "execute_result",
          "data": {
            "text/plain": [
              "array([0, 0, 0, ..., 0, 0, 0])"
            ]
          },
          "metadata": {},
          "execution_count": 10
        }
      ]
    },
    {
      "cell_type": "code",
      "source": [
        "#Evaluate the Model\n",
        "rf_train_score = rf.score(X_train, y_train)\n",
        "rf_test_score = rf.score(X_test, y_test)\n",
        "print(f'RF Train Data Score {rf_train_score}')\n",
        "print(f'RF Test Data Score {rf_test_score}')"
      ],
      "metadata": {
        "colab": {
          "base_uri": "https://localhost:8080/"
        },
        "id": "YEtbAUQXjl1i",
        "outputId": "15d1daf1-dada-4de4-e0c4-3d994e86a093"
      },
      "execution_count": 12,
      "outputs": [
        {
          "output_type": "stream",
          "name": "stdout",
          "text": [
            "RF Train Data Score 1.0\n",
            "RF Test Data Score 0.9712609970674487\n"
          ]
        }
      ]
    },
    {
      "cell_type": "markdown",
      "source": [
        "Second Model : K-Nearest Neighbours"
      ],
      "metadata": {
        "id": "Sx7wRfpEkLts"
      }
    },
    {
      "cell_type": "code",
      "source": [
        "#K-Nearest Neighbour\n",
        "knn = KNeighborsClassifier(n_neighbors=1)\n",
        "\n",
        "#Fit The Model\n",
        "knn.fit(X_train, y_train)\n",
        "\n",
        "#Predict the results\n",
        "knn_pred = knn.predict(X_test)"
      ],
      "metadata": {
        "id": "Ki6Y9XCVkUo0"
      },
      "execution_count": 13,
      "outputs": []
    },
    {
      "cell_type": "code",
      "source": [
        "#Evaluate The Score\n",
        "knn_train_score = knn.score(X_train, y_train)\n",
        "knn_test_score = knn.score(X_test, y_test)\n",
        "print(f'KNN Train Data Score {knn_train_score}')\n",
        "print(f'KNN Test Data Score {knn_test_score}')"
      ],
      "metadata": {
        "colab": {
          "base_uri": "https://localhost:8080/"
        },
        "id": "bklkWQFikfFC",
        "outputId": "80688dec-9be4-4b35-dc1e-1b2a29da5d52"
      },
      "execution_count": 15,
      "outputs": [
        {
          "output_type": "stream",
          "name": "stdout",
          "text": [
            "KNN Train Data Score 1.0\n",
            "KNN Test Data Score 0.9483870967741935\n"
          ]
        }
      ]
    }
  ]
}