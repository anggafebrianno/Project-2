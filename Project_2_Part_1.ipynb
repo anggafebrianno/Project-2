{
  "nbformat": 4,
  "nbformat_minor": 0,
  "metadata": {
    "colab": {
      "name": "Project 2 - Part 1.ipynb",
      "provenance": [],
      "collapsed_sections": []
    },
    "kernelspec": {
      "name": "python3",
      "display_name": "Python 3"
    },
    "language_info": {
      "name": "python"
    }
  },
  "cells": [
    {
      "cell_type": "code",
      "source": [
        "#Import Library\n",
        "import pandas as pd"
      ],
      "metadata": {
        "id": "gBZw4A7fIU0h"
      },
      "execution_count": 3,
      "outputs": []
    },
    {
      "cell_type": "code",
      "execution_count": 4,
      "metadata": {
        "id": "eENAnf4zBB_f"
      },
      "outputs": [],
      "source": [
        "filepath1 = '/content/drive/MyDrive/Coding Dojo/Project 2/Advertising Budget and Sales.csv'\n",
        "filepath2= '/content/drive/MyDrive/Coding Dojo/Project 2/Company Bankrucptcy Prediction .csv'"
      ]
    },
    {
      "cell_type": "code",
      "source": [
        "df1=pd.read_csv(filepath1)\n",
        "df2=pd.read_csv(filepath2)"
      ],
      "metadata": {
        "id": "mp5hsKStH_Be"
      },
      "execution_count": 5,
      "outputs": []
    },
    {
      "cell_type": "code",
      "source": [
        "#Dataset 1\n",
        "df1.head()\n",
        "df1.shape\n"
      ],
      "metadata": {
        "colab": {
          "base_uri": "https://localhost:8080/"
        },
        "id": "oXeZoo56Ijxr",
        "outputId": "f1ffdd7d-fa8f-4e7b-9f39-54cc60510b19"
      },
      "execution_count": 7,
      "outputs": [
        {
          "output_type": "execute_result",
          "data": {
            "text/plain": [
              "(200, 1)"
            ]
          },
          "metadata": {},
          "execution_count": 7
        }
      ]
    },
    {
      "cell_type": "markdown",
      "source": [
        "#Explanation About Dataset 1 - Advertising and Sales\n",
        "1) Source of data\n",
        "     https://www.kaggle.com/datasets/yasserh/advertising-sales-dataset\n",
        "2) Brief description of data\n",
        "      The Data is about advertising budget and total sales.\n",
        "3) What is the target?\n",
        "     The target is total sales\n",
        "4) Is this a classification or regression problem?\n",
        "     Regression Problems\n",
        "5) How many features?\n",
        "     4 Fatures\n",
        "6) How many rows of data.\n",
        "     200 rows and 4 columns\n",
        "7) What, if any, challenges do your foresee in cleaning, exploring, or modeling with this dataset?"
      ],
      "metadata": {
        "id": "0LjfgfR_Is5K"
      }
    },
    {
      "cell_type": "code",
      "source": [
        "df2=pd.read_csv(filepath2)\n",
        "df2\n",
        "df2.shape\n"
      ],
      "metadata": {
        "colab": {
          "base_uri": "https://localhost:8080/"
        },
        "id": "EJAh_stmIsJU",
        "outputId": "7ad70390-155b-49f6-8c3f-830608928200"
      },
      "execution_count": 9,
      "outputs": [
        {
          "output_type": "execute_result",
          "data": {
            "text/plain": [
              "(6819, 96)"
            ]
          },
          "metadata": {},
          "execution_count": 9
        }
      ]
    },
    {
      "cell_type": "markdown",
      "source": [
        "#Explanation About Dataset 2 - Company Bankruptcy\n",
        "Source of data https://www.kaggle.com/datasets/fedesoriano/company-bankruptcy-prediction\n",
        "\n",
        "1.   Source of data https://www.kaggle.com/datasets/\n",
        "2.   Brief description of data:  The Data is financial ratio of company that can be used to determine profitability, leverage, liquidity of a company. \n",
        "3.  What is the target? The target is to predict bankcruptcy of a company based on the financial ratio.\n",
        "4. Is this a classification or regression problem?\n",
        "      Regression Problem\n",
        "5. How many features? 96 Fatures \n",
        "6) How many rows of data?. 6819 rows and 4 columns \n",
        "7) What, if any, challenges do your foresee in cleaning, exploring, or modeling with this dataset?"
      ],
      "metadata": {
        "id": "0kGn1WRSJtbR"
      }
    }
  ]
}